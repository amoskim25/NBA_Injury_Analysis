{
 "cells": [
  {
   "cell_type": "markdown",
   "metadata": {
    "slideshow": {
     "slide_type": "slide"
    }
   },
   "source": [
    "# NBA Injury Analysis"
   ]
  },
  {
   "cell_type": "markdown",
   "metadata": {
    "slideshow": {
     "slide_type": "slide"
    }
   },
   "source": [
    "\n",
    "# Introduction \n",
    "\n",
    "The NBA has changed from the early 90's. Players today seem stronger, bigger and faster. Rules like handchecking no longer exist, the 3 pointer has become a key focus to winning a championship(Golden State Warriors in 2014-15). One thing common in the NBA from then and now is injuries.\n",
    "\n",
    "Injuries are detrimental to any team. When a Star Player gets injured the cost is not only potential wins but millions of dollars lost from injured players salaries and potential tickets sales. Fans don't want to pay for the price of admission to watch their star player on the bench in street clothes. \n",
    "\n",
    "Kobe Bryant was the highest payed player for the last 7 years. \n",
    "    - 2013-14 Sustains Achilles Injury roughly cost the Lakers $28,000,000\n",
    "        - Games missed 73 games\n",
    "        - Salary: 30,453,805 \n",
    "        - Cost to LA Lakers: \n",
    "            - 73  * 370,000/game = $28,000,000\n",
    "\n",
    "\n",
    "Derrick Rose following MVP year sustains knee injury that roughly cost the bulls 40 million dollars\n",
    "\n",
    "    - 2011-2014 Yearly salary: 17,632,688 Games missed: 43(2011), 82(all of 2012), 61(2013)  (knee injury)\n",
    "        - Per game salary: roughly 215,000\n",
    "        - Cost to team: ~ 40,000,000\n"
   ]
  },
  {
   "cell_type": "markdown",
   "metadata": {},
   "source": [
    "# Goal\n",
    "Create a list of key features that attribute to high injury rates. To do this I will focus on games played for each player in a season and Average per game Player stats. This list will help provide the coaching staff with insights/indicators to focus on monitoring the health of a player based on their stats and adjust accordingly to maximize games played in a season.\n",
    "\n"
   ]
  },
  {
   "cell_type": "markdown",
   "metadata": {},
   "source": [
    "# 3 data blocks by era\n",
    "- I gathered 67 different attributes from players statistics on NBA.com. \n"
   ]
  },
  {
   "cell_type": "markdown",
   "metadata": {},
   "source": [
    "# Approach \n",
    "\n",
    "- I reduced the list of attributes by eliminating redundant variables. \n",
    "\n",
    "- Using a heat map and pairplot I removed collinear variables.\n",
    "\n",
    "- I reduced my list of attributes from 67 to 57 features.\n"
   ]
  },
  {
   "cell_type": "markdown",
   "metadata": {},
   "source": [
    "# Models I started with were Linear Regression Ridge and Lasso. \n",
    "- Linear Regression led to cross val scores in the teens. Overfitting and Collinearity between variables was a problem. Which led me to Lasso.\n",
    "\n",
    "# Lasso\n",
    "- My Goal was to narrow down attributes to find commonalities across three eras.  \n",
    "- Top 5 common attributes across 3 datasets:  \n",
    "    1. Minutes Played \n",
    "    2. Teams Win PCT\n",
    "    3. True Shooting PCT\n",
    "    4. Age\n",
    "    5. Net Rating\n",
    "\n",
    "\n"
   ]
  },
  {
   "cell_type": "markdown",
   "metadata": {},
   "source": [
    "# Conclusion: \n",
    "- To Monitor the health of a player, the coaching staff needs to focus on the following attributes:  \n",
    "    - MIN\n",
    "    - W_PCT\n",
    "    - NET_RATING\n",
    "    - TS_PCT\n",
    "    - AGE\n",
    "\n",
    "\n",
    "- If given more time I'd like to focus more on these top attributes and perform PCA to find hidden variables.\n",
    "- Ultimately create predictive model on injuries.\n",
    "- Other models to explore with this dataset: Random Forests, Naiive bayes. "
   ]
  },
  {
   "cell_type": "code",
   "execution_count": null,
   "metadata": {
    "collapsed": true
   },
   "outputs": [],
   "source": []
  }
 ],
 "metadata": {
  "anaconda-cloud": {},
  "celltoolbar": "Slideshow",
  "kernelspec": {
   "display_name": "Python [dsi]",
   "language": "python",
   "name": "Python [dsi]"
  },
  "language_info": {
   "codemirror_mode": {
    "name": "ipython",
    "version": 2
   },
   "file_extension": ".py",
   "mimetype": "text/x-python",
   "name": "python",
   "nbconvert_exporter": "python",
   "pygments_lexer": "ipython2",
   "version": "2.7.12"
  }
 },
 "nbformat": 4,
 "nbformat_minor": 0
}
